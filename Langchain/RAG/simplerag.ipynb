{
 "cells": [
  {
   "cell_type": "markdown",
   "id": "f7a0cd45",
   "metadata": {},
   "source": [
    "# RAG"
   ]
  },
  {
   "cell_type": "markdown",
   "id": "e3c5d03e",
   "metadata": {},
   "source": [
    "**Ollama Setup**"
   ]
  },
  {
   "cell_type": "code",
   "execution_count": 1,
   "id": "a8b55931",
   "metadata": {},
   "outputs": [
    {
     "data": {
      "text/plain": [
       "[Document(metadata={'source': 'speech.txt'}, page_content=\"Ladies and gentlemen, music lovers, frustrated beginners, and those of you who only came here for the snacks — welcome!\\n\\nToday, I stand before you to speak about a creature so temperamental, so unpredictable, and yet so heartbreakingly beautiful... that I had no choice but to fall in love with it. No, I’m not talking about my ex. I’m talking about… my guitar.\\n\\nAh yes, the guitar. The wooden box of emotions. The six-stringed seducer. The reason I have no money in my bank account and 47 tuners I still can’t find when I need them.\\n\\nLet’s start at the beginning. The first time I picked up a guitar, I was filled with hope, ambition, and completely unfounded confidence. I thought, “How hard can it be? It’s just six strings. I have ten fingers. That’s, like, four fingers extra!” I was wrong. So very, very wrong.\\n\\nYou see, learning to play the guitar is like entering into a toxic relationship. At first, it’s all romantic. You hold it gently, strum it softly, whisper sweet nothings like, “I'm gonna learn Wonderwall.” And the guitar smiles at you. Or at least you think it does. What it’s actually doing is plotting your humiliation.\\n\\nThat first day, I tried to play a chord. My fingers contorted into shapes only legally acceptable in yoga class. I pressed down with all my strength — and the sound that came out was… not music. It was the dying scream of a confused squirrel. My dog howled. My neighbor wept. My cat packed its bags and left home.\\n\\nLet’s talk about tuning — the guitar’s passive-aggressive response to your joy. Just when you think it’s perfectly tuned, it decides, “You know what? Not today.” You strum a chord — and suddenly it's in a key only dogs can hear. And every time you look away for more than 0.4 seconds? Boom. The high E string is tighter than your jeans after Thanksgiving, and the low E string is looser than your morals on a Friday night.\\n\\nAnd don’t get me started on the strings. Those little devils are sharp. And sneaky. One moment, you're strumming away, the next moment, BAM — your pinky is bleeding, and you're Googling “Can you get tetanus from playing Stairway to Heaven?”\\n\\nI’ve broken more strings than New Year’s resolutions. I’ve spent more on strings than on groceries. There are actual love songs written with fewer tears than I’ve shed over trying to change strings on this thing. You know who really deserves a Grammy? The person who can restring a guitar without swearing.\\n\\nNow, let’s talk about guitars and humidity — because apparently, my guitar is more high-maintenance than a tropical orchid. Too dry? It cracks. Too humid? It swells. Basically, if the weather isn't exactly 72 degrees with a light breeze and the emotional energy of a scented candle, my guitar throws a tantrum.\\n\\nBut despite all the pain, all the tears, and all the band-aids, I keep coming back. Why? Because my guitar, for all its faults, understands me.\\n\\nWhen I’m sad, it’s there. When I’m happy, it sings with me. When I’m confused, it makes me sound like I know what I’m doing — as long as no one’s watching. And when I finally nailed my first bar chord, I heard angels. And they were out of tune — but it was beautiful.\\n\\nPlaying guitar teaches you things. Patience. Pain tolerance. And how to swear in multiple languages.\\n\\nIt teaches you that even when your fingers hurt, your chords buzz, and your audience consists of your dog and a dying plant, it’s still worth it. Because every now and then, you hit that one perfect note — and it feels like the universe is giving you a thumbs-up.\\n\\nSo, to my guitar — you annoying, moody, squeaky little bundle of mahogany and drama — I love you. You ruin my life, but you also complete it. You are the reason my fingers are calloused, my sleep schedule is ruined, and my neighbors have filed multiple noise complaints.\\n\\nAnd I wouldn’t have it any other way.\\n\\nThank you, and please remember to tip your local musicians… because most of us spent our last dollar on a capo we already owned.\")]"
      ]
     },
     "execution_count": 1,
     "metadata": {},
     "output_type": "execute_result"
    }
   ],
   "source": [
    "# Data Ingestion\n",
    "from langchain_community.document_loaders import TextLoader\n",
    "loader = TextLoader(\"speech.txt\", encoding=\"utf8\")\n",
    "text_document = loader.load()\n",
    "text_document"
   ]
  },
  {
   "cell_type": "code",
   "execution_count": 2,
   "id": "9324fd5a",
   "metadata": {},
   "outputs": [],
   "source": [
    "import os\n",
    "from dotenv import load_dotenv\n",
    "load_dotenv()\n",
    "\n",
    "os.environ[\"OPENAI_API_KEY\"] = os.getenv(\"OPENAI_API_KEY\")"
   ]
  },
  {
   "cell_type": "code",
   "execution_count": 4,
   "id": "315b1ab3",
   "metadata": {},
   "outputs": [
    {
     "name": "stderr",
     "output_type": "stream",
     "text": [
      "USER_AGENT environment variable not set, consider setting it to identify your requests.\n"
     ]
    }
   ],
   "source": [
    "from langchain_community.document_loaders import WebBaseLoader\n",
    "import bs4 # BeautifulSoup"
   ]
  },
  {
   "cell_type": "code",
   "execution_count": 6,
   "id": "cbb1fbf9",
   "metadata": {},
   "outputs": [],
   "source": [
    "## Load, chunk and index the content of a web page\n",
    "loader = WebBaseLoader(web_path=\"https://medium.com/@avi-loeb/first-life-in-the-cosmos-056491f3f684\", \n",
    "                       bs_kwargs=dict(parse_only=bs4.SoupStrainer(\n",
    "                           class_=(\"pw-post-body-paragraph xg xh rt xj b sm xk xl xm so xn xo xp qd xq xr xs qg xt xu xv qj xw xx xy xz jw bx\")\n",
    "                       )),)\n",
    "\n",
    "text_documents=loader.load()"
   ]
  },
  {
   "cell_type": "code",
   "execution_count": 7,
   "id": "40f5cdca",
   "metadata": {},
   "outputs": [
    {
     "data": {
      "text/plain": [
       "[Document(metadata={'source': 'https://medium.com/@avi-loeb/first-life-in-the-cosmos-056491f3f684'}, page_content='')]"
      ]
     },
     "execution_count": 7,
     "metadata": {},
     "output_type": "execute_result"
    }
   ],
   "source": [
    "text_documents"
   ]
  },
  {
   "cell_type": "code",
   "execution_count": null,
   "id": "bcf74a71",
   "metadata": {},
   "outputs": [],
   "source": []
  }
 ],
 "metadata": {
  "kernelspec": {
   "display_name": "venv",
   "language": "python",
   "name": "python3"
  },
  "language_info": {
   "codemirror_mode": {
    "name": "ipython",
    "version": 3
   },
   "file_extension": ".py",
   "mimetype": "text/x-python",
   "name": "python",
   "nbconvert_exporter": "python",
   "pygments_lexer": "ipython3",
   "version": "3.12.9"
  }
 },
 "nbformat": 4,
 "nbformat_minor": 5
}
